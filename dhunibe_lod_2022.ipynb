{
  "metadata": {
    "language_info": {
      "codemirror_mode": {
        "name": "ipython",
        "version": 3
      },
      "file_extension": ".py",
      "mimetype": "text/x-python",
      "name": "python",
      "nbconvert_exporter": "python",
      "pygments_lexer": "ipython3",
      "version": "3.8.5-final"
    },
    "orig_nbformat": 2,
    "kernelspec": {
      "name": "python3",
      "display_name": "Python 3",
      "language": "python"
    },
    "colab": {
      "name": "dhunibe-lod-2022.ipynb",
      "provenance": [],
      "include_colab_link": true
    }
  },
  "nbformat": 4,
  "nbformat_minor": 0,
  "cells": [
    {
      "cell_type": "markdown",
      "metadata": {
        "id": "view-in-github",
        "colab_type": "text"
      },
      "source": [
        "<a href=\"https://colab.research.google.com/github/DHBern/dl_2022/blob/main/dhunibe_lod_2022.ipynb\" target=\"_parent\"><img src=\"https://colab.research.google.com/assets/colab-badge.svg\" alt=\"Open In Colab\"/></a>"
      ]
    },
    {
      "source": [
        "# Erste Schritte mit Wikidata und SPARQL\n"
      ],
      "cell_type": "markdown",
      "metadata": {
        "id": "Q1faGWckVUPB"
      }
    },
    {
      "cell_type": "markdown",
      "source": [
        "SPARQL ist eine Query-Sprache für nach semantischen Aspekten strukturierte, das *Resource Description Framework* (RDF) nutzende Datenbanken. \n",
        "\n",
        "Information ist in solchen Datenbanken in Form von Prädikatsaussagen abgespeichert, die sich in Triples der Form `<subject> <predicate> <object>` ausdrücken lässt.\n",
        "\n",
        "```\n",
        "         +----------+\n",
        "         |   Bern   |       <subject>\n",
        "         +----+-----+\n",
        "              |\n",
        "              |\n",
        " ist gelegen  |             <predicate>\n",
        " in           |\n",
        "              |\n",
        "              v\n",
        "         +----+-----+\n",
        "         | Schweiz  |       <object>\n",
        "         +----------+\n",
        "```\n",
        "\n",
        "Diese Triplestruktur bildet auch die Grundlage der Abfragemöglichkeiten. Dabei wird die Prädikataussage in einem `WHERE`-Statement abgebildet.\n",
        "\n",
        "Die Grundstruktur sieht so aus:\n",
        "\n",
        "```\n",
        "SELECT * \n",
        "WHERE {\n",
        "  ?subject ?predicate ?object\n",
        "}\n",
        "```\n",
        "Die konkreten Bestandteile einer Query entstammen dabei Normdatenbanken und Ontologien.\n",
        "\n",
        "Es gibt diverse Tutorials und Anleitungen wie man Informationen aus Wikidata mit SPARQL-Queries finden, gruppieren auswerten usw. kann. Eines der bekannteren findet sich unter https://www.wikidata.org/wiki/Wikidata:SPARQL_tutorial.\n",
        "\n",
        "Im vorliegenden Notebook geht es nicht darum, die Möglichkeiten von SPARQL im Detail kennenzulernen, sondern nur um eine allererste Annäherung.\n",
        "\n",
        "Das Notebook verwendet die [`wikidata-plain-sparql`-Library](https://github.com/jelleschutter/wikidata-plain-sparql) von Jelle Schutter, Data Science Student an der FHNW, die einen niederschwelligen Zugang ermöglicht.\n",
        "\n",
        "Sie lässt sich durch Ausführen der nächsten beiden Zellen im Notebook-Kontext initialisieren.\n",
        "\n",
        "Die beiden untenstehenden Beisiele können beliebig modifiziert werden. Unter https://www.wikidata.org/wiki/Wikidata:SPARQL_query_service/queries/examples finden sich viele weitere Query-Beispiele, die auf die gleiche Weise auch angepasst und ausgeführt werden können."
      ],
      "metadata": {
        "id": "RGjJSUzadS3J"
      }
    },
    {
      "source": [
        "## Paket installieren"
      ],
      "cell_type": "markdown",
      "metadata": {
        "id": "dRrpOyRlVUPE"
      }
    },
    {
      "cell_type": "code",
      "execution_count": null,
      "metadata": {
        "id": "-oGrC03VVUPG"
      },
      "outputs": [],
      "source": [
        "!pip install wikidata_plain_sparql"
      ]
    },
    {
      "cell_type": "code",
      "execution_count": 5,
      "metadata": {
        "id": "b9UHwhaDVUPH"
      },
      "outputs": [],
      "source": [
        "import wikidata_plain_sparql as wikidata"
      ]
    },
    {
      "source": [
        "## Data Frame\n",
        "\n",
        "Das standardmässige Rückgabeformat ist eine zweidimensionale Datenstruktur, ähnlich einer Tabelle mit Zeilen und Spalten. Genauer gesagt handelt es sich um sog. Pandas Data Frames, ein gängiges Data Science-Format, das sich mit vielen Werkzeugen/Libraries weiterverarbeiten lässt."
      ],
      "cell_type": "markdown",
      "metadata": {
        "id": "2xzJ7LHLVUPJ"
      }
    },
    {
      "cell_type": "markdown",
      "source": [
        "## Erste Abfrage (data frame)\n",
        "\n",
        "Im ersten Beispiel ermitteln wir Personen mit Geburtsort Bern.\n",
        "\n",
        "Für die Query sind folgende Angaben nötig (eruierbar über die Suche unter https://www.wikidata.org):\n",
        "\n",
        "|property|uri|\n",
        "|---|---|\n",
        "|instance of|https://www.wikidata.org/wiki/Property:P31|\n",
        "|human|https://www.wikidata.org/wiki/Q5|\n",
        "|place of birth|https://www.wikidata.org/wiki/Property:P19|\n",
        "|located in the administrative territorial entity |https://www.wikidata.org/wiki/Property:P131|\n",
        "|Bern|https://www.wikidata.org/wiki/Q70|\n",
        "\n"
      ],
      "metadata": {
        "id": "NrU9Zy-roiuN"
      }
    },
    {
      "cell_type": "code",
      "execution_count": null,
      "metadata": {
        "id": "8y-m1oVTVUPK"
      },
      "outputs": [],
      "source": [
        "wikidata.query('''\n",
        "#title: Humans born in Bern, Switzerland\n",
        "SELECT distinct ?item ?itemLabel ?itemDescription ?sitelinks \n",
        "WHERE \n",
        "{\n",
        "    ?item wdt:P31 wd:Q5;              # Any instance of a human.\n",
        "          wdt:P19/wdt:P131* wd:Q70;   # Who was born (P19) in any value (eg. a hospital)\n",
        "                                      # that has the property of 'administrative area of' (P131) Bern (Q70).\n",
        "             wikibase:sitelinks ?sitelinks.\n",
        "   \n",
        "    SERVICE wikibase:label { bd:serviceParam wikibase:language \"en\" }\n",
        "}\n",
        "ORDER BY DESC(?sitelinks)\n",
        "''')"
      ]
    },
    {
      "cell_type": "markdown",
      "source": [
        "* Welche Persönlichkeiten sind an eurem Heimatort/Wohnort geboren?\n",
        "* Welche davon erst nach 1950?\n",
        "   * Tipp: https://www.wikidata.org/wiki/Help:Dates#Filter_dates_inside_sparql_queries"
      ],
      "metadata": {
        "id": "97Lb-h7Qp1Mq"
      }
    },
    {
      "source": [
        "## Zweite Abfrage (Karte)\n",
        "\n",
        "|Property|URI|\n",
        "|---|---|\n",
        "|Federal Palace of Switzerland|https://www.wikidata.org/wiki/Q30911|\n",
        "|coordinate location|https://www.wikidata.org/wiki/Property:P625|\n",
        "|instance of|https://www.wikidata.org/wiki/Property:P31|"
      ],
      "cell_type": "markdown",
      "metadata": {
        "id": "r48noJmfVUPL"
      }
    },
    {
      "cell_type": "code",
      "execution_count": null,
      "metadata": {
        "id": "ubfiIclHVUPN"
      },
      "outputs": [],
      "source": [
        "wikidata.query('''\n",
        "#Places within 1km of the Federal Palace of Switzerland\n",
        "SELECT ?place ?placeLabel ?location ?instanceLabel\n",
        "WHERE\n",
        "{\n",
        "  wd:Q30911 wdt:P625 ?loc .\n",
        "  SERVICE wikibase:around {\n",
        "      ?place wdt:P625 ?location .\n",
        "      bd:serviceParam wikibase:center ?loc .\n",
        "      bd:serviceParam wikibase:radius \"1\" .\n",
        "  }\n",
        "  OPTIONAL {    ?place wdt:P31 ?instance  }\n",
        "  SERVICE wikibase:label { bd:serviceParam wikibase:language \"en\" }\n",
        "  BIND(geof:distance(?loc, ?location) as ?dist)\n",
        "} ORDER BY ?dist\n",
        "''', view='map')"
      ]
    },
    {
      "cell_type": "markdown",
      "source": [
        "* Lassen sich die Resultate nach Typ filtern?"
      ],
      "metadata": {
        "id": "3OXIb6gfrsUZ"
      }
    },
    {
      "cell_type": "markdown",
      "source": [
        "### Ferner\n",
        "\n",
        "Wie man mit solchen Methoden ein kleines Forschungsprojekt durchführen könnte, zeigt https://github.com/hawc2/wikidata bzw. https://colab.research.google.com/github/hawc2/wikidata/blob/main/Querying_and_Visualizing_Wikidata.ipynb. \n",
        "\n",
        "Etwas Hintergrund zur Herangehensweise wird im zugehörigen Blog-Post geliefert: https://sites.temple.edu/tudsc/2022/01/24/visualizing-wikidata-using-python-to-analyze-identity-and-representation-in-wikidata-about-black-art-exhibitions/\n"
      ],
      "metadata": {
        "id": "PEj1aIrUtXo1"
      }
    }
  ]
}